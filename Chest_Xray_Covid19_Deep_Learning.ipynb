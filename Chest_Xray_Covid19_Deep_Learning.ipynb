{
 "cells": [
  {
   "cell_type": "code",
   "execution_count": null,
   "id": "ad0d9150",
   "metadata": {},
   "outputs": [],
   "source": [
    "import os\n",
    "import numpy as np\n",
    "import pandas as pd \n",
    "import matplotlib.pyplot as plt\n",
    "import seaborn as sns\n",
    "\n",
    "from keras.preprocessing.image import ImageDataGenerator\n",
    "from keras.models import Sequential, Model\n",
    "from keras.layers import Dense, Conv2D, MaxPool2D, Dropout, Flatten, BatchNormalization, GlobalAveragePooling2D\n",
    "\n",
    "from keras.applications.densenet import DenseNet121\n",
    "from keras import backend as K\n",
    "\n",
    "from sklearn.metrics import confusion_matrix, classification_report"
   ]
  },
  {
   "cell_type": "code",
   "execution_count": null,
   "id": "03c7b6ac",
   "metadata": {},
   "outputs": [],
   "source": [
    "len(os.listdir(\"../input/chest-xray-covid19-pneumonia/Data/train/COVID19\"))"
   ]
  },
  {
   "cell_type": "code",
   "execution_count": null,
   "id": "c8c6ef09",
   "metadata": {},
   "outputs": [],
   "source": [
    "train_dir = \"../input/chest-xray-covid19-pneumonia/Data/train/\"\n",
    "test_dir = \"../input/chest-xray-covid19-pneumonia/Data/test/\"\n",
    "\n",
    "print(\"Train set:\\n========================================\")\n",
    "num_covid = len(os.listdir(os.path.join(train_dir, 'COVID19')))\n",
    "num_normal = len(os.listdir(os.path.join(train_dir, 'NORMAL')))\n",
    "print(f\"COVID={num_covid}\")\n",
    "print(f\"NORMAL={num_normal}\")\n",
    "\n",
    "print(\"Test set:\\n========================================\")\n",
    "print(f\"COVID = {len(os.listdir(os.path.join(test_dir, 'COVID19')))}\")\n",
    "print(f\"NORMAL = {len(os.listdir(os.path.join(test_dir, 'NORMAL')))}\")\n",
    "\n",
    "# print(\"Validation set:\\n========================================\")\n",
    "# print(f\"COVID = {len(os.listdir(os.path.join(val_dir, 'COVID19')))}\")\n",
    "# print(f\"NORMAL = {len(os.listdir(os.path.join(val_dir, 'NORMAL')))}\")"
   ]
  },
  {
   "cell_type": "code",
   "execution_count": null,
   "id": "b02063f1",
   "metadata": {},
   "outputs": [],
   "source": [
    "normal = os.listdir(\"../input/chest-xray-covid19-pneumonia/Data/train/NORMAL\")\n",
    "normal_dir = \"../input/chest-xray-covid19-pneumonia/Data/train/NORMAL\"\n",
    "\n",
    "plt.figure(figsize=(20, 10))\n",
    "\n",
    "for i in range(9):\n",
    "    plt.subplot(3, 3, i + 1)\n",
    "    img = plt.imread(os.path.join(normal_dir, normal[i]))\n",
    "    plt.imshow(img, cmap='gray')\n",
    "    plt.axis('off')\n",
    "    \n",
    "plt.tight_layout()"
   ]
  },
  {
   "cell_type": "code",
   "execution_count": null,
   "id": "a5431387",
   "metadata": {},
   "outputs": [],
   "source": [
    "normal_img = os.listdir(\"../input/chest-xray-covid19-pneumonia/Data/train/NORMAL\")[0]\n",
    "normal_dir = \"../input/chest-xray-covid19-pneumonia/Data/train/NORMAL\"\n",
    "sample_img = plt.imread(os.path.join(normal_dir, normal_img))\n",
    "plt.imshow(sample_img, cmap='gray')\n",
    "plt.colorbar()\n",
    "plt.title('Raw Chest X Ray Image')\n",
    "\n",
    "print(f\"The dimensions of the image are {sample_img.shape[0]} pixels width and {sample_img.shape[1]} pixels height, one single color channel.\")\n",
    "print(f\"The maximum pixel value is {sample_img.max():.4f} and the minimum is {sample_img.min():.4f}\")\n",
    "print(f\"The mean value of the pixels is {sample_img.mean():.4f} and the standard deviation is {sample_img.std():.4f}\")"
   ]
  },
  {
   "cell_type": "code",
   "execution_count": null,
   "id": "8c1f2423",
   "metadata": {},
   "outputs": [],
   "source": [
    "sns.distplot(sample_img.ravel(),\n",
    "             label=f\"Pixel Mean {np.mean(sample_img):.4f} & Standard Deviation {np.std(sample_img):.4f}\", \n",
    "             kde=False)\n",
    "plt.legend(loc='upper right')\n",
    "plt.title('Distribution of Pixel Intensities in the Image')\n",
    "plt.xlabel('Pixel Intensity')\n",
    "plt.ylabel('# Pixels in Image')"
   ]
  },
  {
   "cell_type": "code",
   "execution_count": null,
   "id": "09ab9c8f",
   "metadata": {},
   "outputs": [],
   "source": [
    "image_generator = ImageDataGenerator(\n",
    "    rotation_range=20,\n",
    "    width_shift_range=0.1,\n",
    "    shear_range=0.1,\n",
    "    zoom_range=0.1,\n",
    "    samplewise_center=True,\n",
    "    samplewise_std_normalization=True\n",
    ")"
   ]
  },
  {
   "cell_type": "code",
   "execution_count": null,
   "id": "24b409a8",
   "metadata": {},
   "outputs": [],
   "source": [
    "train = image_generator.flow_from_directory(train_dir, \n",
    "                                            batch_size=8, \n",
    "                                            shuffle=True, \n",
    "                                            classes = [\"NORMAL\", \"COVID19\"],\n",
    "                                            class_mode='binary',\n",
    "                                            target_size=(320, 320))\n",
    "\n",
    "test = image_generator.flow_from_directory(test_dir, \n",
    "                                            batch_size=1, \n",
    "                                            shuffle=False, \n",
    "                                            classes = [\"NORMAL\", \"COVID19\"],\n",
    "                                            class_mode='binary',\n",
    "                                            target_size=(320, 320))"
   ]
  },
  {
   "cell_type": "code",
   "execution_count": null,
   "id": "9c17b530",
   "metadata": {},
   "outputs": [],
   "source": [
    "sns.set_style('white')\n",
    "generated_image, label = train.__getitem__(0)\n",
    "plt.imshow(generated_image[0], cmap='gray')\n",
    "plt.colorbar()\n",
    "plt.title('Raw Chest X Ray Image')\n",
    "\n",
    "print(f\"The dimensions of the image are {generated_image.shape[1]} pixels width and {generated_image.shape[2]} pixels height, one single color channel.\")\n",
    "print(f\"The maximum pixel value is {generated_image.max():.4f} and the minimum is {generated_image.min():.4f}\")\n",
    "print(f\"The mean value of the pixels is {generated_image.mean():.4f} and the standard deviation is {generated_image.std():.4f}\")"
   ]
  },
  {
   "cell_type": "code",
   "execution_count": null,
   "id": "d2a1bf04",
   "metadata": {},
   "outputs": [],
   "source": [
    "sns.distplot(generated_image.ravel(),\n",
    "             label=f\"Pixel Mean {np.mean(generated_image):.4f} & Standard Deviation {np.std(generated_image):.4f}\", \n",
    "             kde=False)\n",
    "plt.legend(loc='upper center')\n",
    "plt.title('Distribution of Pixel Intensities in the Image')\n",
    "plt.xlabel('Pixel Intensity')\n",
    "plt.ylabel('# Pixels in Image')"
   ]
  },
  {
   "cell_type": "code",
   "execution_count": null,
   "id": "aef701eb",
   "metadata": {},
   "outputs": [],
   "source": [
    "# Class weights\n",
    "\n",
    "weight_for_0 = num_covid / (num_normal + num_covid)\n",
    "weight_for_1 = num_normal / (num_normal + num_covid)\n",
    "\n",
    "class_weight = {0: weight_for_0, 1: weight_for_1}\n",
    "\n",
    "print(f\"Weight for class 0: {weight_for_0:.2f}\")\n",
    "print(f\"Weight for class 1: {weight_for_1:.2f}\")"
   ]
  },
  {
   "cell_type": "code",
   "execution_count": null,
   "id": "7d4a7666",
   "metadata": {},
   "outputs": [],
   "source": [
    "def recall_m(y_true, y_pred):\n",
    "    true_positives = K.sum(K.round(K.clip(y_true * y_pred, 0, 1)))\n",
    "    possible_positives = K.sum(K.round(K.clip(y_true, 0, 1)))\n",
    "    recall = true_positives / (possible_positives + K.epsilon())\n",
    "    return recall\n",
    "\n",
    "def precision_m(y_true, y_pred):\n",
    "    true_positives = K.sum(K.round(K.clip(y_true * y_pred, 0, 1)))\n",
    "    predicted_positives = K.sum(K.round(K.clip(y_pred, 0, 1)))\n",
    "    precision = true_positives / (predicted_positives + K.epsilon())\n",
    "    return precision\n",
    "\n",
    "def f1_m(y_true, y_pred):\n",
    "    precision = precision_m(y_true, y_pred)\n",
    "    recall = recall_m(y_true, y_pred)\n",
    "    return 2*((precision*recall)/(precision+recall+K.epsilon()))"
   ]
  },
  {
   "cell_type": "code",
   "execution_count": null,
   "id": "22cdab84",
   "metadata": {},
   "outputs": [],
   "source": [
    "model = Sequential()\n",
    "\n",
    "model.add(Conv2D(filters=32, kernel_size=(3, 3), input_shape=(320, 320, 3), activation='relu'))\n",
    "model.add(BatchNormalization())\n",
    "model.add(Conv2D(filters=32, kernel_size=(3, 3), activation='relu'))\n",
    "model.add(BatchNormalization())\n",
    "model.add(MaxPool2D(pool_size=(2, 2)))\n",
    "\n",
    "model.add(Conv2D(filters=64, kernel_size=(3, 3), activation='relu'))\n",
    "model.add(BatchNormalization())\n",
    "model.add(Conv2D(filters=64, kernel_size=(3, 3), activation='relu'))\n",
    "model.add(BatchNormalization())\n",
    "model.add(MaxPool2D(pool_size=(2, 2)))\n",
    "\n",
    "model.add(Conv2D(filters=128, kernel_size=(3, 3), activation='relu'))\n",
    "model.add(BatchNormalization())\n",
    "model.add(Conv2D(filters=128, kernel_size=(3, 3), activation='relu'))\n",
    "model.add(BatchNormalization())\n",
    "model.add(MaxPool2D(pool_size=(2, 2)))\n",
    "\n",
    "model.add(Flatten())\n",
    "model.add(Dense(128, activation='relu'))\n",
    "model.add(Dropout(0.2))\n",
    "\n",
    "model.add(Dense(1, activation='sigmoid'))\n",
    "\n",
    "model.compile(loss='binary_crossentropy', \n",
    "              optimizer='adam', \n",
    "              metrics=['accuracy',f1_m, precision_m, recall_m])"
   ]
  },
  {
   "cell_type": "code",
   "execution_count": null,
   "id": "dbb013df",
   "metadata": {},
   "outputs": [],
   "source": [
    "model.summary()"
   ]
  },
  {
   "cell_type": "code",
   "execution_count": null,
   "id": "51b05583",
   "metadata": {},
   "outputs": [],
   "source": [
    "r = model.fit(\n",
    "    train, \n",
    "    epochs=10,\n",
    "    class_weight=class_weight,\n",
    ")"
   ]
  },
  {
   "cell_type": "code",
   "execution_count": null,
   "id": "fd1c26ca",
   "metadata": {},
   "outputs": [],
   "source": [
    "plt.figure(figsize=(12, 8))\n",
    "\n",
    "plt.subplot(2, 2, 1)\n",
    "plt.plot(r.history['loss'], label='Loss')\n",
    "plt.legend()\n",
    "plt.title('Loss Evolution')\n",
    "\n",
    "plt.subplot(2, 2, 2)\n",
    "plt.plot(r.history['accuracy'], label='Accuracy')\n",
    "plt.legend()\n",
    "plt.title('Accuracy Evolution')"
   ]
  },
  {
   "cell_type": "code",
   "execution_count": null,
   "id": "e8a88c59",
   "metadata": {},
   "outputs": [],
   "source": [
    "loss, accuracy, f1_score, precision, recall = model.evaluate(test)\n",
    "print(f\"Test Accuracy: {accuracy * 100:.2f}%\")\n",
    "\n",
    "loss, accuracy, f1_score, precision, recall = model.evaluate(train)\n",
    "print(f\"Train Accuracy: {accuracy * 100:.2f}%\")"
   ]
  },
  {
   "cell_type": "code",
   "execution_count": null,
   "id": "af4e7022",
   "metadata": {},
   "outputs": [],
   "source": [
    "pred = model.predict(test)\n",
    "\n",
    "print(confusion_matrix(test.classes, pred > 0.5))\n",
    "pd.DataFrame(classification_report(test.classes, pred > 0.5, output_dict=True))"
   ]
  },
  {
   "cell_type": "code",
   "execution_count": null,
   "id": "40837670",
   "metadata": {},
   "outputs": [],
   "source": [
    "print(confusion_matrix(test.classes, pred > 0.7))\n",
    "pd.DataFrame(classification_report(test.classes, pred > 0.7, output_dict=True))"
   ]
  },
  {
   "cell_type": "code",
   "execution_count": null,
   "id": "81580d0f",
   "metadata": {},
   "outputs": [],
   "source": [
    "print(test.classes)"
   ]
  },
  {
   "cell_type": "code",
   "execution_count": null,
   "id": "1906e188",
   "metadata": {},
   "outputs": [],
   "source": [
    "print(len(test))"
   ]
  },
  {
   "cell_type": "code",
   "execution_count": null,
   "id": "d73f7fbd",
   "metadata": {},
   "outputs": [],
   "source": [
    "Kaggle dataset : Chest X-Ray Images (Pneumonia)\n",
    "https://www.kaggle.com/datasets/paultimothymooney/chest-xray-pneumonia\n",
    "Context\n",
    "http://www.cell.com/cell/fulltext/S0092-8674(18)30154-5      \n",
    "Kaggle Linke : Covid_19_Diagnosis_with_Deep Learning\n",
    "    https://www.kaggle.com/code/sainikhitgulla/covid-19-diagnosis-with-deep-learning"
   ]
  }
 ],
 "metadata": {
  "kernelspec": {
   "display_name": "Python 3",
   "language": "python",
   "name": "python3"
  },
  "language_info": {
   "codemirror_mode": {
    "name": "ipython",
    "version": 3
   },
   "file_extension": ".py",
   "mimetype": "text/x-python",
   "name": "python",
   "nbconvert_exporter": "python",
   "pygments_lexer": "ipython3",
   "version": "3.8.8"
  }
 },
 "nbformat": 4,
 "nbformat_minor": 5
}
